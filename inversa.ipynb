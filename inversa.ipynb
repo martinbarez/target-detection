{
  "cells": [
    {
      "metadata": {},
      "cell_type": "markdown",
      "source": "# Inversa con forward y backward elimination\n\nLa que vi que implementaste [aquí](https://www.umbc.edu/rssipl/people/aplaza/Papers/Journals/2016.JSTARS.FPGATGP.pdf)"
    },
    {
      "metadata": {
        "trusted": true
      },
      "cell_type": "code",
      "source": "import numpy\n\ndef inversa(X):\n    n_bandas = X.shape[0]\n    G = X.copy()\n    invG = numpy.zeros([n_bandas, n_bandas], X.dtype)\n    \n    #lo inicializo como identidad\n    for i in range(n_bandas):\n        invG[i][i]=1\n\n    #forward elimination to build an upper triangular matrix\n    for i in range (n_bandas):\n        # if zero\n        if (G[i][i]==0):\n            for j in range(i, n_bandas):\n                if (G[j][j]!=0):\n                    G[[i, j]] = G[[j, i]]\n\n        assert G[i][i] is not 0, \"Matrix is singular\"\n\n        for j in range(i+1, n_bandas):\n            invG[j] = invG[j] - invG[i] * (G[j][i] / G[i][i])\n            G[j] = G[j] - G[i] * (G[j][i] / G[i][i])\n\n    for i in range(n_bandas-1, 0, -1):\n        for j in range(i-1, -1, -1):\n            invG[j] = invG[j] - invG[i] * (G[j][i] / G[i][i])\n            G[j] = G[j] - G[i] * (G[j][i] / G[i][i])\n\n\n    for i in range(n_bandas):\n        invG[i] = invG[i] *(1 / G[i][i])\n\n\n    assert numpy.allclose(invG, numpy.linalg.inv(X))\n    return invG",
      "execution_count": null,
      "outputs": []
    },
    {
      "metadata": {
        "deletable": false,
        "editable": false,
        "hide_input": true,
        "run_control": {
          "frozen": true
        }
      },
      "cell_type": "markdown",
      "source": "## Inversa por Gauß\n\n[Aquí hay algo](https://www.researchgate.net/publication/261380053_FPGA_implementation_of_floating-point_complex_matrix_inversion_based_on_GAUSS-JORDAN_elimination)"
    },
    {
      "metadata": {
        "deletable": false,
        "editable": false,
        "hide_input": true
      },
      "cell_type": "raw",
      "source": "n = fi.shape[0]  # cojo el tamaño\nG = fi.copy()\ninvG = numpy.zeros([n, n], numpy.longdouble)\nfor i in range(n):\n    invG[i][i]=1\n\nfor i in range(n):\n    # Step 1\n    # if zero\n    if (G[i][i]==0):\n        for j in range(i, n):\n            if (G[j][j]!=0):\n                G[[i, j]] = G[[j, i]]\n                \n    assert G[i][i] is not 0, \"Matrix is singular\"\n    \n    #Step 2\n    #divide row to reduce pivot to 1\n    invG[i] = invG[i] / G[i][i]\n    G[i] = G[i] / G[i][i]\n    \n    #Step 3\n    #for each row, subtract the [i] amount of times the pivot row (since that one has 1 as pivot)\n    for j in range(n):\n        if (j != i):\n            invG[j] = invG[j] - invG[i] * G[j][i]\n            G[j] = G[j] - G[i] * G[j][i]\n\n\nassert numpy.allclose(invG, inv(fi))\ninvfi = inv(fi)"
    },
    {
      "metadata": {
        "deletable": false,
        "editable": false,
        "hide_input": true,
        "run_control": {
          "frozen": true
        }
      },
      "cell_type": "markdown",
      "source": "## Inversa por QRD\n\nEsto es lo que he estado mirando con más detenimiento, y te pego enlaces a los papers que he visto\n\n[Un journal de dudosa calidad](https://www.sciencepubco.com/index.php/ijet/article/view/14517/9004) pero del que he sacado (y solo he sacado eso) los valores intermedios para ir probando.\n\n[La implementación que he realizado](http://cseweb.ucsd.edu/~airturk/core/matrix_QRD.pdf) y [otra publicación](http://cseweb.ucsd.edu/~airturk/core/gusto_journal.pdf) del mismo proyecto.\n\nUna implementación de xilinx de un [sistema sistólico](https://scholarship.rice.edu/bitstream/handle/1911/20002/Kar2005Oct5FPGAImplem.PDF?sequence=1&isAllowed=y) en el que ya tienen una matriz triangular.\n\nUn paper que veo bastante bueno pero muy complicado y que encima no puedo acceder. Al menos hay una preview en google books. Si quieres le escribo esta tarde a los autores y les pido una copia. [springer](https://link.springer.com/chapter/10.1007/978-3-642-03644-6_9) y la [preview](https://books.google.de/books?id=705tCQAAQBAJ&pg=PA110&lpg=PA110&dq=A+Fine-Grained+Pipelined+Implementation+for+Large-Scale+Matrix+Inversion+on+FPGA&source=bl&ots=IGmgQcqEMZ&sig=ACfU3U18qhgdmW8DlP1Z7wxD-bytkOyWDA&hl=de&sa=X&ved=2ahUKEwiDscrZvLznAhVFLFAKHW4ZB2kQ6AEwBHoECAoQAQ#v=onepage&q&f=false)"
    },
    {
      "metadata": {
        "deletable": false,
        "editable": false,
        "hide_input": true
      },
      "cell_type": "raw",
      "source": "# Inverse\n#invfi = inv(fi)\n\nfi = array([[1, 1, 1, 0],\n           [1, 1, 0, 1],\n           [1, 0, 1, 1],\n           [0, 1, 1, 1]], numpy.float64)\n\n#  QRD-MGS Algorithm\nn = fi.shape[0]  # cojo el tamaño\nA = fi\nY = numpy.zeros([n, n], numpy.float64)  # X está en uso\nR = numpy.zeros([n, n], numpy.float64)\nQ = numpy.zeros([n, n], numpy.float64)\nY = A.copy()\n\nfor i in range(0, n): #por n\n    R[i][i] = norm(Y[i])  # euclidean norm sqrt(x^2 + y^2)\n    Q[i] = Y[i] / R[i][i] # n divisiones\n    for j in range(i, n): # por n\n        R[i][j] = matmul(Q[i], Y[j]) # multiplicacion de matrices\n        Y[j] = Y[j] - R[i][j]*Q[i] # n multiplicaciones\n\n# Q sale transpuesta\n\ninvR = numpy.zeros([n, n], numpy.float64)\nfor j in range(0, n):\n    for i in range(0, j):\n        for k in range(0, j):\n            invR[i][j] = invR[i][j]+invR[i][k]*R[k][j]\n    for k in range(0, j):\n        invR[k][j] = -invR[k][j]/R[j][j]\n    invR[j][j] = 1/R[j][j]\n\n# Último paso\ninvfi = matmul(invR, Q)\nassert(invfi.all() == inv(fi).all())"
    }
  ],
  "metadata": {
    "kernelspec": {
      "name": "python3",
      "display_name": "Python 3",
      "language": "python"
    },
    "language_info": {
      "mimetype": "text/x-python",
      "nbconvert_exporter": "python",
      "name": "python",
      "pygments_lexer": "ipython3",
      "version": "3.5.4",
      "file_extension": ".py",
      "codemirror_mode": {
        "version": 3,
        "name": "ipython"
      }
    }
  },
  "nbformat": 4,
  "nbformat_minor": 4
}