{
  "cells": [
    {
      "metadata": {},
      "cell_type": "markdown",
      "source": "# Covarianza\n\nYa me dirás si hay algún algoritmo indicado para FPGAs para covarianza. [Yo he encontrado este](https://stattrek.com/matrix-algebra/covariance-matrix.aspx) y lo he implementado porque no me parecía muy díficil. Lo único es que toca dividir en vez de desplazar, pero si me puedo comer algo de error creo que sería lo mejor\n\nA todo esto, el error ese es [la corrección de Besel](https://en.wikipedia.org/wiki/Bessel%27s_correction), gracias [stackoverflow](https://math.stackexchange.com/questions/1786994/covariance-matrix-wrong-results-either-in-matlab-or-in-formula?rq=1).\nEs básicamente n/n-1, pero a mí me sale con 8bandas/32-1píxeles"
    },
    {
      "metadata": {
        "trusted": true
      },
      "cell_type": "code",
      "source": "import numpy\n\ndef covarianza(X, deviacion):\n    #Transpongo y multiplico dos matrices\n    devt = numpy.transpose(deviacion.copy())\n    otra = numpy.matmul(devt, deviacion)\n\n    #divido por algo fijo, pero que si puedo tomar algo de error mejor desplazo\n    n_pixeles = X.shape[1]\n    covarianza = otra/(n_pixeles-1)\n    \n    assert numpy.allclose(covarianza, numpy.cov(X)), \"Error en covarianza\"\n    return covarianza",
      "execution_count": null,
      "outputs": []
    }
  ],
  "metadata": {
    "kernelspec": {
      "name": "python3",
      "display_name": "Python 3",
      "language": "python"
    },
    "language_info": {
      "mimetype": "text/x-python",
      "nbconvert_exporter": "python",
      "name": "python",
      "pygments_lexer": "ipython3",
      "version": "3.5.4",
      "file_extension": ".py",
      "codemirror_mode": {
        "version": 3,
        "name": "ipython"
      }
    }
  },
  "nbformat": 4,
  "nbformat_minor": 4
}