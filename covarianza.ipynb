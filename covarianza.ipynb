{
 "cells": [
  {
   "cell_type": "markdown",
   "metadata": {},
   "source": [
    "# Covarianza\n",
    "\n",
    "Ya me dirás si hay algún algoritmo indicado para FPGAs para covarianza. [Yo he encontrado este](https://stattrek.com/matrix-algebra/covariance-matrix.aspx) y lo he implementado porque no me parecía muy díficil. Lo único es que toca dividir en vez de desplazar, pero si me puedo comer algo de error creo que sería lo mejor\n",
    "\n",
    "A todo esto, el error ese es [la corrección de Besel](https://en.wikipedia.org/wiki/Bessel%27s_correction), gracias [stackoverflow](https://math.stackexchange.com/questions/1786994/covariance-matrix-wrong-results-either-in-matlab-or-in-formula?rq=1).\n",
    "Es básicamente n/n-1, pero a mí me sale con 8bandas/32-1píxeles"
   ]
  },
  {
   "cell_type": "code",
   "execution_count": 1,
   "metadata": {},
   "outputs": [],
   "source": [
    "import numpy\n",
    "\n",
    "def covarianza(X, deviacion):\n",
    "    #Transpongo y multiplico dos matrices\n",
    "    devt = numpy.transpose(deviacion.copy())\n",
    "    otra = numpy.matmul(devt, deviacion)\n",
    "\n",
    "    #divido por algo fijo, pero que si puedo tomar algo de error mejor desplazo\n",
    "    n_pixeles = X.shape[1]\n",
    "    covarianza = otra/(n_pixeles-1)\n",
    "    \n",
    "    assert numpy.allclose(covarianza, cov(X)), \"Error en covarianza\"\n",
    "    return covarianza"
   ]
  }
 ],
 "metadata": {
  "kernelspec": {
   "display_name": "Python 3",
   "language": "python",
   "name": "python3"
  },
  "language_info": {
   "codemirror_mode": {
    "name": "ipython",
    "version": 3
   },
   "file_extension": ".py",
   "mimetype": "text/x-python",
   "name": "python",
   "nbconvert_exporter": "python",
   "pygments_lexer": "ipython3",
   "version": "3.7.6"
  }
 },
 "nbformat": 4,
 "nbformat_minor": 4
}
