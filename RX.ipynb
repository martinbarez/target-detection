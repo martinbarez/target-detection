{
 "cells": [
  {
   "cell_type": "markdown",
   "metadata": {},
   "source": [
    "# RX\n",
    "\n",
    "El código de Matlab traducido a Python\n",
    "\n",
    "Aquí en el primer bloque verás que están las mismas variables que pusiste tú pero que el array lo inicializo con valores. Son los que me aparecían en Matlab con la opción de default y los he dejado así para no liarme y poder comprobar fácilmente que las operaciones eran correctas."
   ]
  },
  {
   "cell_type": "code",
   "execution_count": null,
   "metadata": {
    "code_folding": []
   },
   "outputs": [],
   "source": [
    "import numpy\n",
    "\n",
    "%run inversa.ipynb\n",
    "%run covarianza.ipynb\n",
    "%run deviacion.ipynb\n",
    "%run media.ipynb\n",
    "\n",
    "N = 8  # bandas\n",
    "M = 32  # pixeles\n",
    "if False:\n",
    "    X = array([[209, 246, 108, 174, 71, 113, 182, 246, 229, 209, 91, 98, 146, 43, 59, 28, 67, 223, 103, 232, 200, 148, 167, 176, 125, 165, 160, 58, 232, 155, 22, 61],\n",
    "            [232, 248, 235, 194, 12, 98, 194, 88, 246, 63, 213, 146, 121, 155, 234, 247, 205, 149, 20, 242, 100, 16, 188, 47, 112, 97, 151, 44, 251, 183, 68, 118],\n",
    "            [33, 41, 203, 191, 25, 196, 71, 150, 141, 238, 150, 20, 4, 68, 40, 2, 111, 141, 62, 126, 62, 61, 166, 95, 115, 208, 54, 59, 113, 57, 206, 247],\n",
    "            [234, 249, 246, 101, 211, 204, 175, 58, 36, 90, 141, 14, 87, 168, 212, 199, 234, 38, 32, 126, 104, 91, 116, 161, 79, 137, 78, 112, 29, 31, 8, 140],\n",
    "            [162, 246, 168, 168, 178, 48, 168, 193, 39, 51, 235, 136, 42, 177, 138, 210, 47, 219, 48, 87, 25, 211, 141, 200, 131, 90, 121, 80, 67, 76, 238, 134],\n",
    "            [25, 125, 10, 44, 82, 126, 42, 66, 66, 65, 74, 200, 204, 192, 256, 223, 68, 160, 62, 231, 34, 4, 76, 21, 131, 241, 60, 237, 105, 82, 187, 60],\n",
    "            [72, 205, 218, 181, 244, 115, 31, 130, 216, 158, 194, 240, 80, 116, 21, 22, 38, 90, 107, 95, 242, 12, 191, 238, 210, 225, 217, 111, 153, 109, 126, 126],\n",
    "            [141, 37, 240, 9, 9, 166, 128, 179, 66, 122, 193, 34, 136, 22, 114, 103, 35, 132, 13, 29, 245, 44, 49, 199, 204, 141, 50, 48, 68, 131, 149, 160]])\n",
    "    check = True\n",
    "else:\n",
    "    X = numpy.random.randint(low = 0, high = 256, size=(N, M))\n",
    "    check = False\n",
    "X = X.astype('float64')"
   ]
  },
  {
   "cell_type": "code",
   "execution_count": null,
   "metadata": {
    "code_folding": []
   },
   "outputs": [],
   "source": [
    "media = media(X)\n",
    "deviacion = deviacion(X, media)\n",
    "covarianza = covarianza(X, deviacion)\n",
    "inversa_cov = inversa(covarianza)"
   ]
  },
  {
   "cell_type": "markdown",
   "metadata": {},
   "source": [
    "## El resto (para probar que funciona)"
   ]
  },
  {
   "cell_type": "code",
   "execution_count": null,
   "metadata": {
    "code_folding": []
   },
   "outputs": [],
   "source": [
    "R = numpy.zeros([M], numpy.longdouble)\n",
    "\n",
    "for i in range(M):\n",
    "    resta = subtract(X[:, i], media)  # resta la columna\n",
    "    t = resta.reshape((1, -1)) # otro transpose\n",
    "    R[i]=(matmul(matmul(t, inversa_cov), resta))"
   ]
  },
  {
   "cell_type": "code",
   "execution_count": null,
   "metadata": {},
   "outputs": [],
   "source": [
    "control = array([[6.98255846], [12.93698463], [10.34438199], [6.71785252], [12.91176259], [7.05938212], [4.85671939], [6.74011743], [7.54006757], [6.94963658], [6.55902276], [9.07915113], [7.04155694], [3.9978728], [7.44125174], [8.84686045], [10.02591519], [7.78372555], [8.07804037], [8.51903075], [11.17111338], [12.58061393], [2.88643314], [7.30410476], [3.66816483], [10.26784811], [3.65019396], [6.04739986], [5.7849899], [5.24184292], [12.38433902], [6.60106522]])\n",
    "\n",
    "if check:\n",
    "    assert numpy.allclose(R, control[:, 0]), \"Uh oh\"\n",
    "\n",
    "print(\"Todo ok\")"
   ]
  },
  {
   "cell_type": "code",
   "execution_count": null,
   "metadata": {},
   "outputs": [],
   "source": [
    "R"
   ]
  },
  {
   "cell_type": "code",
   "execution_count": null,
   "metadata": {
    "deletable": false,
    "editable": false,
    "hide_input": true,
    "run_control": {
     "frozen": true
    }
   },
   "outputs": [],
   "source": [
    "# Control\n",
    "\"\"\"\n",
    "[array([6.98255846]),\n",
    " array([12.93698463]),\n",
    " array([10.34438199]),\n",
    " array([6.71785252]),\n",
    " array([12.91176259]),\n",
    " array([7.05938212]),\n",
    " array([4.85671939]),\n",
    " array([6.74011743]),\n",
    " array([7.54006757]),\n",
    " array([6.94963658]),\n",
    " array([6.55902276]),\n",
    " array([9.07915113]),\n",
    " array([7.04155694]),\n",
    " array([3.9978728]),\n",
    " array([7.44125174]),\n",
    " array([8.84686045]),\n",
    " array([10.02591519]),\n",
    " array([7.78372555]),\n",
    " array([8.07804037]),\n",
    " array([8.51903075]),\n",
    " array([11.17111338]),\n",
    " array([12.58061393]),\n",
    " array([2.88643314]),\n",
    " array([7.30410476]),\n",
    " array([3.66816483]),\n",
    " array([10.26784811]),\n",
    " array([3.65019396]),\n",
    " array([6.04739986]),\n",
    " array([5.7849899]),\n",
    " array([5.24184292]),\n",
    " array([12.38433902]),\n",
    " array([6.60106522])]\n",
    " \"\"\""
   ]
  }
 ],
 "metadata": {
  "kernelspec": {
   "display_name": "Python 3",
   "language": "python",
   "name": "python3"
  },
  "language_info": {
   "codemirror_mode": {
    "name": "ipython",
    "version": 3
   },
   "file_extension": ".py",
   "mimetype": "text/x-python",
   "name": "python",
   "nbconvert_exporter": "python",
   "pygments_lexer": "ipython3",
   "version": "3.7.6"
  },
  "varInspector": {
   "cols": {
    "lenName": 16,
    "lenType": 16,
    "lenVar": 40
   },
   "kernels_config": {
    "python": {
     "delete_cmd_postfix": "",
     "delete_cmd_prefix": "del ",
     "library": "var_list.py",
     "varRefreshCmd": "print(var_dic_list())"
    },
    "r": {
     "delete_cmd_postfix": ") ",
     "delete_cmd_prefix": "rm(",
     "library": "var_list.r",
     "varRefreshCmd": "cat(var_dic_list()) "
    }
   },
   "types_to_exclude": [
    "module",
    "function",
    "builtin_function_or_method",
    "instance",
    "_Feature"
   ],
   "window_display": false
  }
 },
 "nbformat": 4,
 "nbformat_minor": 4
}
