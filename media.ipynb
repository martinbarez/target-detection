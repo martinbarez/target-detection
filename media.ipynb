{
 "cells": [
  {
   "cell_type": "markdown",
   "metadata": {},
   "source": [
    "# Media de cada banda\n",
    "\n",
    "Esto se usa para el cálculo final, pero también para la covarianza, así que ya la pongo por aquí"
   ]
  },
  {
   "cell_type": "code",
   "execution_count": 3,
   "metadata": {},
   "outputs": [],
   "source": [
    "import numpy\n",
    "\n",
    "def media(X):\n",
    "    n_bandas = X.shape[0]\n",
    "    n_pixeles = X.shape[1]\n",
    "    media = numpy.zeros(n_bandas, X.dtype)\n",
    "    for i in range(n_bandas):\n",
    "        suma = 0\n",
    "        for j in range(M):\n",
    "            suma += X[i][j]\n",
    "        media[i] = suma / n_pixeles\n",
    "    \n",
    "    assert numpy.allclose(media, numpy.mean(X, 1))\n",
    "    return media"
   ]
  }
 ],
 "metadata": {
  "kernelspec": {
   "display_name": "Python 3",
   "language": "python",
   "name": "python3"
  },
  "language_info": {
   "codemirror_mode": {
    "name": "ipython",
    "version": 3
   },
   "file_extension": ".py",
   "mimetype": "text/x-python",
   "name": "python",
   "nbconvert_exporter": "python",
   "pygments_lexer": "ipython3",
   "version": "3.7.6"
  }
 },
 "nbformat": 4,
 "nbformat_minor": 4
}
